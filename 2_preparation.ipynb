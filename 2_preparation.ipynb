{
 "cells": [
  {
   "cell_type": "markdown",
   "metadata": {
    "id": "JVGnFt9sy4nY",
    "tags": []
   },
   "source": [
    "# DATA PREPARATION :\n",
    "##  DATA CLEANING AND PREPROCESSING"
   ]
  },
  {
   "cell_type": "markdown",
   "metadata": {
    "id": "byrtZWZbcC52",
    "tags": []
   },
   "source": [
    "## Module mporting"
   ]
  },
  {
   "cell_type": "code",
   "execution_count": 28,
   "metadata": {
    "tags": []
   },
   "outputs": [],
   "source": [
    "import pandas as pd\n",
    "from utils.essential import *\n",
    "from utils.preparation import *\n",
    "from utils.preparation_visualization import *\n",
    "from utils.preparation_preprocessing import *"
   ]
  },
  {
   "cell_type": "markdown",
   "metadata": {},
   "source": [
    "### Dataframe Definition"
   ]
  },
  {
   "cell_type": "code",
   "execution_count": 29,
   "metadata": {
    "tags": []
   },
   "outputs": [],
   "source": [
    "# Google Drive access - (Uncoment if required)\n",
    "#drive.mount('/content/drive')\n",
    "\n",
    "path_df = '../data/1-improved/marketing_campaign_data.csv' # - (Ensure path is correct)\n",
    "#Dataframe definition\n",
    "df_improved = pd.read_csv(path_df, low_memory=False)\n",
    "df= df_improved.copy()"
   ]
  },
  {
   "cell_type": "code",
   "execution_count": 30,
   "metadata": {
    "tags": []
   },
   "outputs": [],
   "source": [
    "path_df_ori = '../data/raw/marketing_campaign_data.csv' # - (Ensure path is correct)\n",
    "#Dataframe definition\n",
    "df_original = pd.read_csv(path_df_ori, low_memory=False)"
   ]
  },
  {
   "cell_type": "code",
   "execution_count": 31,
   "metadata": {
    "tags": []
   },
   "outputs": [],
   "source": [
    "def column_unique_values(df, column_name):\n",
    "    unique_values = df[column_name].unique()\n",
    "    return list(unique_values)"
   ]
  },
  {
   "cell_type": "markdown",
   "metadata": {
    "id": "AiprwD35kdCt",
    "tags": []
   },
   "source": [
    "## Data Cleansing"
   ]
  },
  {
   "cell_type": "markdown",
   "metadata": {
    "tags": []
   },
   "source": [
    "### Unnecessary features removal"
   ]
  },
  {
   "cell_type": "raw",
   "metadata": {},
   "source": [
    "Based on the initial inspection there are certain unnecessary columns that can be removed.\n",
    "    "
   ]
  },
  {
   "cell_type": "code",
   "execution_count": 32,
   "metadata": {
    "tags": []
   },
   "outputs": [
    {
     "data": {
      "text/plain": [
       "['Z_CostContact',\n",
       " 'Z_Revenue',\n",
       " 'Unnamed: 0',\n",
       " 'ID',\n",
       " 'Income',\n",
       " 'NumWebVisitsMonth',\n",
       " 'Dt_Customer',\n",
       " 'NumDealsPurchases',\n",
       " 'NumWebPurchases',\n",
       " 'NumCatalogPurchases',\n",
       " 'NumStorePurchases',\n",
       " 'Year_Birth',\n",
       " 'Kidhome',\n",
       " 'Teenhome',\n",
       " 'MntFishProducts',\n",
       " 'MntFruits',\n",
       " 'MntGoldProds',\n",
       " 'MntMeatProducts',\n",
       " 'MntSweetProducts',\n",
       " 'MntCoke',\n",
       " 'AcceptedCmp1',\n",
       " 'AcceptedCmp2',\n",
       " 'AcceptedCmp3',\n",
       " 'AcceptedCmp4',\n",
       " 'AcceptedCmp5']"
      ]
     },
     "execution_count": 32,
     "metadata": {},
     "output_type": "execute_result"
    }
   ],
   "source": [
    "drop_cols = ['Z_CostContact',\n",
    " 'Z_Revenue',\n",
    " 'Unnamed: 0',\n",
    " 'ID', 'Income', 'NumWebVisitsMonth', 'Dt_Customer',\n",
    "'NumDealsPurchases', 'NumWebPurchases', 'NumCatalogPurchases', 'NumStorePurchases', 'Year_Birth', 'Kidhome', 'Teenhome', 'MntFishProducts','MntFruits','MntGoldProds', 'MntMeatProducts', 'MntSweetProducts', 'MntCoke', 'AcceptedCmp1', 'AcceptedCmp2', 'AcceptedCmp3',\n",
    "       'AcceptedCmp4', 'AcceptedCmp5']\n",
    "drop_cols"
   ]
  },
  {
   "cell_type": "code",
   "execution_count": 33,
   "metadata": {
    "tags": []
   },
   "outputs": [],
   "source": [
    "df = df.drop(columns=drop_cols)"
   ]
  },
  {
   "cell_type": "code",
   "execution_count": 34,
   "metadata": {
    "tags": []
   },
   "outputs": [
    {
     "name": "stdout",
     "output_type": "stream",
     "text": [
      "Numerical Columns:\n",
      "Index(['In_Relationship', 'Recency', 'Complain', 'Response', 'Customer_Year',\n",
      "       'Total_Purchases', 'Conversion_Rate', 'Total_AcceptedCmp', 'Age',\n",
      "       'Total_Spent', 'Total_Kids', 'Parents'],\n",
      "      dtype='object')\n",
      "\n",
      "Categorical Columns:\n",
      "Index(['Education', 'Age_Group', 'Income_Level'], dtype='object')\n"
     ]
    }
   ],
   "source": [
    "numerical_cols, categorical_cols = list_column_types(df)"
   ]
  },
  {
   "cell_type": "markdown",
   "metadata": {
    "id": "0GgW8vFBiTVM"
   },
   "source": [
    "## Handling Missing Values"
   ]
  },
  {
   "cell_type": "code",
   "execution_count": 35,
   "metadata": {
    "tags": []
   },
   "outputs": [],
   "source": [
    "# Performing Imputation\n",
    "df_Imp = impute_data(df, split_data=False, drop_all=False)  # Imputing rows with missing values\n"
   ]
  },
  {
   "cell_type": "code",
   "execution_count": 36,
   "metadata": {
    "tags": []
   },
   "outputs": [
    {
     "name": "stdout",
     "output_type": "stream",
     "text": [
      "Number of missing values: 0\n",
      "Percentage of missing values relative to total values: 0.0%\n"
     ]
    }
   ],
   "source": [
    "missing_values = df.isnull().sum()\n",
    "total_values = df.size\n",
    "total_missing = missing_values.sum()\n",
    "percentage_missing_of_total = (total_missing / total_values) * 100\n",
    "\n",
    "print(\"Number of missing values:\", total_missing)\n",
    "print(f\"Percentage of missing values relative to total values: {percentage_missing_of_total}%\")"
   ]
  },
  {
   "cell_type": "markdown",
   "metadata": {
    "id": "7eZ-aGzbkdRV"
   },
   "source": [
    "### Feature Encoding & Scaling"
   ]
  },
  {
   "cell_type": "code",
   "execution_count": 44,
   "metadata": {
    "tags": []
   },
   "outputs": [],
   "source": [
    "# Concatenate the training and testing data for one-hot encoding\n",
    "X_concatenated = df_Imp\n",
    "\n",
    "# Identify categorical features\n",
    "categorical_features = X_concatenated.select_dtypes(include=['object']).columns\n",
    "numerical_features = X_concatenated.select_dtypes(exclude=['object']).columns\n",
    "\n",
    "# Apply one-hot encoding to the concatenated data\n",
    "categorical_encoded = one_hot_encode(X_concatenated)\n",
    "numerical_scaled = scale_features(X_concatenated, scaler_type='Robust')\n",
    "\n",
    "# Concatenate the numerical columns with the one-hot encoded categorical columns\n",
    "df_preprocessed = pd.concat([categorical_encoded, numerical_scaled], axis=1)\n"
   ]
  },
  {
   "cell_type": "code",
   "execution_count": 45,
   "metadata": {
    "tags": []
   },
   "outputs": [
    {
     "name": "stdout",
     "output_type": "stream",
     "text": [
      "| \u001b[1m['Before and After Preparing the Data:']\u001b[0m   |    |                        |\n",
      "|:-------------------------------------------|:---|:-----------------------|\n",
      "| Original Dataframe                         |    | Preprocessed Dataframe |\n",
      "|                                            |    |                        |\n",
      "| ['Columns; 30']                            |    | ['Columns: 20']        |\n",
      "| ['Rows: 2240']                             |    | ['Rows: 2240']         |\n"
     ]
    }
   ],
   "source": [
    "original_rows = df_original.shape[0]\n",
    "original_columns = df_original.shape[1]\n",
    "preprocessed_rows = df_preprocessed.shape[0]\n",
    "preprocessed_columns =  df_preprocessed.shape[1]\n",
    "table_title = [\"Before and After Preparing the Data:\"]\n",
    "column_titles = [\"Original Dataframe\", '', \"Preprocessed Dataframe\"]\n",
    "result1 = ['Columns; ' + str(original_columns)], ['Rows: ' + str(original_rows)]\n",
    "result2 = ['Columns: ' + str(preprocessed_columns)], ['Rows: ' + str(preprocessed_rows)]\n",
    "print_table(table_title, column_titles, result1, '', result2)"
   ]
  },
  {
   "cell_type": "markdown",
   "metadata": {
    "id": "Nhq4a07Bkdma",
    "tags": []
   },
   "source": [
    "## Feature Selection"
   ]
  },
  {
   "cell_type": "raw",
   "metadata": {},
   "source": [
    "RFM Analysis\n",
    "Recency, frequency, monetary value (RFM) is a marketing analysis model that segments a company's customer base by purchasing patterns. Specifically, it evaluates a customer's recency (how long ago they made a purchase), frequency (how often they make purchases), and monetary value (how much money they spend). Ranking by quantile is performed for each recency, frequency, and monetary value. Customers are clustered by RFM scores using the k-means algorithm, into categories such as Loyalists, Champions, and Lost Customers."
   ]
  },
  {
   "cell_type": "markdown",
   "metadata": {},
   "source": [
    "For each user,\n",
    "\n",
    "Recency is defined by days since the latest tstamp\n",
    "Frequency is defined by number of transactions\n",
    "Monetary is defined by total amount"
   ]
  },
  {
   "cell_type": "markdown",
   "metadata": {},
   "source": [
    "For this dataset the selected features are:"
   ]
  },
  {
   "cell_type": "code",
   "execution_count": 49,
   "metadata": {
    "tags": []
   },
   "outputs": [],
   "source": [
    "features = ['Recency','Total_Purchases','Total_Spent', 'Total_AcceptedCmp']"
   ]
  },
  {
   "cell_type": "code",
   "execution_count": 47,
   "metadata": {
    "tags": []
   },
   "outputs": [],
   "source": [
    "# Save the clean DataFrame to a CSV file\n",
    "path_df_clean = '../data/2-clean/marketing_campaign_data.csv' # - (Ensure path is correct)\n",
    "df.to_csv(path_df_clean, index=False)"
   ]
  },
  {
   "cell_type": "code",
   "execution_count": 50,
   "metadata": {
    "tags": []
   },
   "outputs": [],
   "source": [
    "df_features=df[features]\n",
    "# Save the features DataFrame to a CSV file\n",
    "path_df_features = '../data/2-features/marketing_campaign_data.csv' # - (Ensure path is correct)\n",
    "df_features.to_csv(path_df_features, index=False)"
   ]
  }
 ],
 "metadata": {
  "colab": {
   "provenance": [],
   "toc_visible": true
  },
  "kernelspec": {
   "display_name": "Python 3 (ipykernel)",
   "language": "python",
   "name": "python3"
  },
  "language_info": {
   "codemirror_mode": {
    "name": "ipython",
    "version": 3
   },
   "file_extension": ".py",
   "mimetype": "text/x-python",
   "name": "python",
   "nbconvert_exporter": "python",
   "pygments_lexer": "ipython3",
   "version": "3.11.5"
  },
  "widgets": {
   "application/vnd.jupyter.widget-state+json": {
    "190539ed54a344c6b5e6edc05cfb1e26": {
     "model_module": "@jupyter-widgets/controls",
     "model_module_version": "1.5.0",
     "model_name": "HTMLModel",
     "state": {
      "_dom_classes": [],
      "_model_module": "@jupyter-widgets/controls",
      "_model_module_version": "1.5.0",
      "_model_name": "HTMLModel",
      "_view_count": null,
      "_view_module": "@jupyter-widgets/controls",
      "_view_module_version": "1.5.0",
      "_view_name": "HTMLView",
      "description": "",
      "description_tooltip": null,
      "layout": "IPY_MODEL_9b196a37b54843ce8a08a6de02611d94",
      "placeholder": "​",
      "style": "IPY_MODEL_66d5fc38a68645bb9a6259dfae77c160",
      "value": " 2979/5029 [20:54&lt;11:34,  2.95it/s, scatter LANDAREA_MEDI, LANDAREA_MODE]"
     }
    },
    "1cb86c20c89c4e30acbcb1040209e49c": {
     "model_module": "@jupyter-widgets/controls",
     "model_module_version": "1.5.0",
     "model_name": "DescriptionStyleModel",
     "state": {
      "_model_module": "@jupyter-widgets/controls",
      "_model_module_version": "1.5.0",
      "_model_name": "DescriptionStyleModel",
      "_view_count": null,
      "_view_module": "@jupyter-widgets/base",
      "_view_module_version": "1.2.0",
      "_view_name": "StyleView",
      "description_width": ""
     }
    },
    "35d687c3753a4f0b9e19fadbe372df26": {
     "model_module": "@jupyter-widgets/controls",
     "model_module_version": "1.5.0",
     "model_name": "HTMLModel",
     "state": {
      "_dom_classes": [],
      "_model_module": "@jupyter-widgets/controls",
      "_model_module_version": "1.5.0",
      "_model_name": "HTMLModel",
      "_view_count": null,
      "_view_module": "@jupyter-widgets/controls",
      "_view_module_version": "1.5.0",
      "_view_name": "HTMLView",
      "description": "",
      "description_tooltip": null,
      "layout": "IPY_MODEL_e7940f5582aa46d2a237b0e9612d03f9",
      "placeholder": "​",
      "style": "IPY_MODEL_1cb86c20c89c4e30acbcb1040209e49c",
      "value": "Summarize dataset:  59%"
     }
    },
    "66d5fc38a68645bb9a6259dfae77c160": {
     "model_module": "@jupyter-widgets/controls",
     "model_module_version": "1.5.0",
     "model_name": "DescriptionStyleModel",
     "state": {
      "_model_module": "@jupyter-widgets/controls",
      "_model_module_version": "1.5.0",
      "_model_name": "DescriptionStyleModel",
      "_view_count": null,
      "_view_module": "@jupyter-widgets/base",
      "_view_module_version": "1.2.0",
      "_view_name": "StyleView",
      "description_width": ""
     }
    },
    "86b48c193a8248489fdc2cc7c7199531": {
     "model_module": "@jupyter-widgets/controls",
     "model_module_version": "1.5.0",
     "model_name": "ProgressStyleModel",
     "state": {
      "_model_module": "@jupyter-widgets/controls",
      "_model_module_version": "1.5.0",
      "_model_name": "ProgressStyleModel",
      "_view_count": null,
      "_view_module": "@jupyter-widgets/base",
      "_view_module_version": "1.2.0",
      "_view_name": "StyleView",
      "bar_color": null,
      "description_width": ""
     }
    },
    "97a50b293eac44c48d57d6f5f4befcbc": {
     "model_module": "@jupyter-widgets/base",
     "model_module_version": "1.2.0",
     "model_name": "LayoutModel",
     "state": {
      "_model_module": "@jupyter-widgets/base",
      "_model_module_version": "1.2.0",
      "_model_name": "LayoutModel",
      "_view_count": null,
      "_view_module": "@jupyter-widgets/base",
      "_view_module_version": "1.2.0",
      "_view_name": "LayoutView",
      "align_content": null,
      "align_items": null,
      "align_self": null,
      "border": null,
      "bottom": null,
      "display": null,
      "flex": null,
      "flex_flow": null,
      "grid_area": null,
      "grid_auto_columns": null,
      "grid_auto_flow": null,
      "grid_auto_rows": null,
      "grid_column": null,
      "grid_gap": null,
      "grid_row": null,
      "grid_template_areas": null,
      "grid_template_columns": null,
      "grid_template_rows": null,
      "height": null,
      "justify_content": null,
      "justify_items": null,
      "left": null,
      "margin": null,
      "max_height": null,
      "max_width": null,
      "min_height": null,
      "min_width": null,
      "object_fit": null,
      "object_position": null,
      "order": null,
      "overflow": null,
      "overflow_x": null,
      "overflow_y": null,
      "padding": null,
      "right": null,
      "top": null,
      "visibility": null,
      "width": null
     }
    },
    "9b196a37b54843ce8a08a6de02611d94": {
     "model_module": "@jupyter-widgets/base",
     "model_module_version": "1.2.0",
     "model_name": "LayoutModel",
     "state": {
      "_model_module": "@jupyter-widgets/base",
      "_model_module_version": "1.2.0",
      "_model_name": "LayoutModel",
      "_view_count": null,
      "_view_module": "@jupyter-widgets/base",
      "_view_module_version": "1.2.0",
      "_view_name": "LayoutView",
      "align_content": null,
      "align_items": null,
      "align_self": null,
      "border": null,
      "bottom": null,
      "display": null,
      "flex": null,
      "flex_flow": null,
      "grid_area": null,
      "grid_auto_columns": null,
      "grid_auto_flow": null,
      "grid_auto_rows": null,
      "grid_column": null,
      "grid_gap": null,
      "grid_row": null,
      "grid_template_areas": null,
      "grid_template_columns": null,
      "grid_template_rows": null,
      "height": null,
      "justify_content": null,
      "justify_items": null,
      "left": null,
      "margin": null,
      "max_height": null,
      "max_width": null,
      "min_height": null,
      "min_width": null,
      "object_fit": null,
      "object_position": null,
      "order": null,
      "overflow": null,
      "overflow_x": null,
      "overflow_y": null,
      "padding": null,
      "right": null,
      "top": null,
      "visibility": null,
      "width": null
     }
    },
    "a6c7e31c03744cc897d6b867e30dc367": {
     "model_module": "@jupyter-widgets/controls",
     "model_module_version": "1.5.0",
     "model_name": "FloatProgressModel",
     "state": {
      "_dom_classes": [],
      "_model_module": "@jupyter-widgets/controls",
      "_model_module_version": "1.5.0",
      "_model_name": "FloatProgressModel",
      "_view_count": null,
      "_view_module": "@jupyter-widgets/controls",
      "_view_module_version": "1.5.0",
      "_view_name": "ProgressView",
      "bar_style": "",
      "description": "",
      "description_tooltip": null,
      "layout": "IPY_MODEL_f9c5008a63f94548b97f6200f980ae6d",
      "max": 5,
      "min": 0,
      "orientation": "horizontal",
      "style": "IPY_MODEL_86b48c193a8248489fdc2cc7c7199531",
      "value": 5
     }
    },
    "c913c43e80004465bdf91890fe2768b2": {
     "model_module": "@jupyter-widgets/controls",
     "model_module_version": "1.5.0",
     "model_name": "HBoxModel",
     "state": {
      "_dom_classes": [],
      "_model_module": "@jupyter-widgets/controls",
      "_model_module_version": "1.5.0",
      "_model_name": "HBoxModel",
      "_view_count": null,
      "_view_module": "@jupyter-widgets/controls",
      "_view_module_version": "1.5.0",
      "_view_name": "HBoxView",
      "box_style": "",
      "children": [
       "IPY_MODEL_35d687c3753a4f0b9e19fadbe372df26",
       "IPY_MODEL_a6c7e31c03744cc897d6b867e30dc367",
       "IPY_MODEL_190539ed54a344c6b5e6edc05cfb1e26"
      ],
      "layout": "IPY_MODEL_97a50b293eac44c48d57d6f5f4befcbc"
     }
    },
    "e7940f5582aa46d2a237b0e9612d03f9": {
     "model_module": "@jupyter-widgets/base",
     "model_module_version": "1.2.0",
     "model_name": "LayoutModel",
     "state": {
      "_model_module": "@jupyter-widgets/base",
      "_model_module_version": "1.2.0",
      "_model_name": "LayoutModel",
      "_view_count": null,
      "_view_module": "@jupyter-widgets/base",
      "_view_module_version": "1.2.0",
      "_view_name": "LayoutView",
      "align_content": null,
      "align_items": null,
      "align_self": null,
      "border": null,
      "bottom": null,
      "display": null,
      "flex": null,
      "flex_flow": null,
      "grid_area": null,
      "grid_auto_columns": null,
      "grid_auto_flow": null,
      "grid_auto_rows": null,
      "grid_column": null,
      "grid_gap": null,
      "grid_row": null,
      "grid_template_areas": null,
      "grid_template_columns": null,
      "grid_template_rows": null,
      "height": null,
      "justify_content": null,
      "justify_items": null,
      "left": null,
      "margin": null,
      "max_height": null,
      "max_width": null,
      "min_height": null,
      "min_width": null,
      "object_fit": null,
      "object_position": null,
      "order": null,
      "overflow": null,
      "overflow_x": null,
      "overflow_y": null,
      "padding": null,
      "right": null,
      "top": null,
      "visibility": null,
      "width": null
     }
    },
    "f9c5008a63f94548b97f6200f980ae6d": {
     "model_module": "@jupyter-widgets/base",
     "model_module_version": "1.2.0",
     "model_name": "LayoutModel",
     "state": {
      "_model_module": "@jupyter-widgets/base",
      "_model_module_version": "1.2.0",
      "_model_name": "LayoutModel",
      "_view_count": null,
      "_view_module": "@jupyter-widgets/base",
      "_view_module_version": "1.2.0",
      "_view_name": "LayoutView",
      "align_content": null,
      "align_items": null,
      "align_self": null,
      "border": null,
      "bottom": null,
      "display": null,
      "flex": null,
      "flex_flow": null,
      "grid_area": null,
      "grid_auto_columns": null,
      "grid_auto_flow": null,
      "grid_auto_rows": null,
      "grid_column": null,
      "grid_gap": null,
      "grid_row": null,
      "grid_template_areas": null,
      "grid_template_columns": null,
      "grid_template_rows": null,
      "height": null,
      "justify_content": null,
      "justify_items": null,
      "left": null,
      "margin": null,
      "max_height": null,
      "max_width": null,
      "min_height": null,
      "min_width": null,
      "object_fit": null,
      "object_position": null,
      "order": null,
      "overflow": null,
      "overflow_x": null,
      "overflow_y": null,
      "padding": null,
      "right": null,
      "top": null,
      "visibility": null,
      "width": null
     }
    }
   }
  }
 },
 "nbformat": 4,
 "nbformat_minor": 4
}
